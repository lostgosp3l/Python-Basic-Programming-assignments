{
  "nbformat": 4,
  "nbformat_minor": 0,
  "metadata": {
    "colab": {
      "name": "PBPA7.ipynb",
      "provenance": [],
      "collapsed_sections": [],
      "authorship_tag": "ABX9TyNBOS3YaGzXTi6VjDnc8HXg",
      "include_colab_link": true
    },
    "kernelspec": {
      "name": "python3",
      "display_name": "Python 3"
    },
    "language_info": {
      "name": "python"
    }
  },
  "cells": [
    {
      "cell_type": "markdown",
      "metadata": {
        "id": "view-in-github",
        "colab_type": "text"
      },
      "source": [
        "<a href=\"https://colab.research.google.com/github/lostgosp3l/Python-Basic-Programming-assignments/blob/main/PBPA7.ipynb\" target=\"_parent\"><img src=\"https://colab.research.google.com/assets/colab-badge.svg\" alt=\"Open In Colab\"/></a>"
      ]
    },
    {
      "cell_type": "code",
      "execution_count": null,
      "metadata": {
        "id": "lOuCKCnDgqcS",
        "colab": {
          "base_uri": "https://localhost:8080/",
          "height": 54
        },
        "outputId": "5a955900-ffd7-4ebc-92c0-a95884baefec"
      },
      "outputs": [
        {
          "output_type": "execute_result",
          "data": {
            "application/vnd.google.colaboratory.intrinsic+json": {
              "type": "string"
            },
            "text/plain": [
              "'\\n1. Write a Python Program to find sum of array?\\n2. Write a Python Program to find largest element in an array?\\n3. Write a Python Program for array rotation?\\n4. Write a Python Program to Split the array and add the first part to the end?\\n5. Write a Python Program to check if given array is Monotonic?\\n'"
            ]
          },
          "metadata": {},
          "execution_count": 1
        }
      ],
      "source": [
        "'''\n",
        "1. Write a Python Program to find sum of array?\n",
        "2. Write a Python Program to find largest element in an array?\n",
        "3. Write a Python Program for array rotation?\n",
        "4. Write a Python Program to Split the array and add the first part to the end?\n",
        "5. Write a Python Program to check if given array is Monotonic?\n",
        "'''\n",
        "\n"
      ]
    },
    {
      "cell_type": "code",
      "source": [
        "# 1.Write a Python Program to find sum of array?\n",
        "\n",
        "arr = [1,2,34,5,31,42,42,223]\n",
        "\n",
        "print(sum(arr))"
      ],
      "metadata": {
        "colab": {
          "base_uri": "https://localhost:8080/"
        },
        "id": "L0XDivqDdMTC",
        "outputId": "bc07f69e-3c4c-4d76-9074-9a78afc99115"
      },
      "execution_count": null,
      "outputs": [
        {
          "output_type": "stream",
          "name": "stdout",
          "text": [
            "380\n"
          ]
        }
      ]
    },
    {
      "cell_type": "code",
      "source": [
        "# 2.Write a Python Program to find largest element in an array?\n",
        "\n",
        "arr = [1,2,34,5,31,42,42,223]\n",
        "\n",
        "print(max(arr))"
      ],
      "metadata": {
        "colab": {
          "base_uri": "https://localhost:8080/"
        },
        "id": "lpuEwrP0dl5d",
        "outputId": "fcff3e89-c150-4d61-fc79-0e02ef0542ae"
      },
      "execution_count": 3,
      "outputs": [
        {
          "output_type": "stream",
          "name": "stdout",
          "text": [
            "223\n"
          ]
        }
      ]
    },
    {
      "cell_type": "code",
      "source": [
        "#How to reverse an array\n",
        "'''task : Input  : arr[] = {1, 2, 3}\n",
        "          Output : arr[] = {3, 2, 1}\n",
        "'''\n",
        "def reverseList(A, start, end):\n",
        "    while start < end:\n",
        "        A[start], A[end] = A[end], A[start]\n",
        "        start += 1\n",
        "        end -= 1\n",
        "              \n",
        "A = [1,2,3,4,5,6,7,42]\n",
        "print(A)\n",
        "reverseList(A, 0, 7)\n",
        "print(\"Reversed list is\")\n",
        "print(A)\n",
        "\n",
        "\n"
      ],
      "metadata": {
        "colab": {
          "base_uri": "https://localhost:8080/"
        },
        "id": "URRT9M8hmlDk",
        "outputId": "020c4006-4412-424e-816f-787fec11c012"
      },
      "execution_count": 9,
      "outputs": [
        {
          "output_type": "stream",
          "name": "stdout",
          "text": [
            "[1, 2, 3, 4, 5, 6, 7, 42]\n",
            "Reversed list is\n",
            "[42, 7, 6, 5, 4, 3, 2, 1]\n"
          ]
        }
      ]
    },
    {
      "cell_type": "code",
      "source": [
        "# 3.Write a Python Program for array rotation?\n",
        "#rotating an array by k steps, where k is non-negative\n",
        "#Basic logic: (i+k)%len(arr)\n",
        "\n",
        "class Solution:\n",
        "  def rotate(self, nums: List[int], k: int) -> None:\n",
        "    \"\"\"\n",
        "    Do not return anything, modify nums in-place instead.\n",
        "    \"\"\"\n",
        "    k = k % len(nums)\n",
        "    l , r = 0, len(nums) - 1\n",
        "    while l<r:\n",
        "      nums[1], num[r] = num[r], nums[l]\n",
        "\n",
        "\n",
        "    l, r = 0, k - 1\n",
        "    while l<r:\n",
        "      nums[1], num[r] = num[r], nums[l]\n",
        "      l, r = l + 1, r - 1\n",
        "\n",
        "    \n",
        "    l, r = 0, len(nums) - 1\n",
        "    while l<r:\n",
        "      nums[1], num[r] = num[r], nums[l]\n",
        "      l, r = l + 1, r - 1\n",
        "\n",
        "\n",
        "\n"
      ],
      "metadata": {
        "colab": {
          "base_uri": "https://localhost:8080/",
          "height": 372
        },
        "id": "46WU1ET2fBFB",
        "outputId": "4650a9dd-b653-4d6f-9647-4056dfa70f97"
      },
      "execution_count": 11,
      "outputs": [
        {
          "output_type": "error",
          "ename": "NameError",
          "evalue": "ignored",
          "traceback": [
            "\u001b[0;31m---------------------------------------------------------------------------\u001b[0m",
            "\u001b[0;31mNameError\u001b[0m                                 Traceback (most recent call last)",
            "\u001b[0;32m<ipython-input-11-ddfb4cfc0205>\u001b[0m in \u001b[0;36m<module>\u001b[0;34m()\u001b[0m\n\u001b[1;32m      3\u001b[0m \u001b[0;31m#Basic logic: (i+k)%len(arr)\u001b[0m\u001b[0;34m\u001b[0m\u001b[0;34m\u001b[0m\u001b[0;34m\u001b[0m\u001b[0m\n\u001b[1;32m      4\u001b[0m \u001b[0;34m\u001b[0m\u001b[0m\n\u001b[0;32m----> 5\u001b[0;31m \u001b[0;32mclass\u001b[0m \u001b[0mSolution\u001b[0m\u001b[0;34m:\u001b[0m\u001b[0;34m\u001b[0m\u001b[0;34m\u001b[0m\u001b[0m\n\u001b[0m\u001b[1;32m      6\u001b[0m   \u001b[0;32mdef\u001b[0m \u001b[0mrotate\u001b[0m\u001b[0;34m(\u001b[0m\u001b[0mself\u001b[0m\u001b[0;34m,\u001b[0m \u001b[0mnums\u001b[0m\u001b[0;34m:\u001b[0m \u001b[0mList\u001b[0m\u001b[0;34m[\u001b[0m\u001b[0mint\u001b[0m\u001b[0;34m]\u001b[0m\u001b[0;34m,\u001b[0m \u001b[0mk\u001b[0m\u001b[0;34m:\u001b[0m \u001b[0mint\u001b[0m\u001b[0;34m)\u001b[0m \u001b[0;34m->\u001b[0m \u001b[0;32mNone\u001b[0m\u001b[0;34m:\u001b[0m\u001b[0;34m\u001b[0m\u001b[0;34m\u001b[0m\u001b[0m\n\u001b[1;32m      7\u001b[0m     \"\"\"\n",
            "\u001b[0;32m<ipython-input-11-ddfb4cfc0205>\u001b[0m in \u001b[0;36mSolution\u001b[0;34m()\u001b[0m\n\u001b[1;32m      4\u001b[0m \u001b[0;34m\u001b[0m\u001b[0m\n\u001b[1;32m      5\u001b[0m \u001b[0;32mclass\u001b[0m \u001b[0mSolution\u001b[0m\u001b[0;34m:\u001b[0m\u001b[0;34m\u001b[0m\u001b[0;34m\u001b[0m\u001b[0m\n\u001b[0;32m----> 6\u001b[0;31m   \u001b[0;32mdef\u001b[0m \u001b[0mrotate\u001b[0m\u001b[0;34m(\u001b[0m\u001b[0mself\u001b[0m\u001b[0;34m,\u001b[0m \u001b[0mnums\u001b[0m\u001b[0;34m:\u001b[0m \u001b[0mList\u001b[0m\u001b[0;34m[\u001b[0m\u001b[0mint\u001b[0m\u001b[0;34m]\u001b[0m\u001b[0;34m,\u001b[0m \u001b[0mk\u001b[0m\u001b[0;34m:\u001b[0m \u001b[0mint\u001b[0m\u001b[0;34m)\u001b[0m \u001b[0;34m->\u001b[0m \u001b[0;32mNone\u001b[0m\u001b[0;34m:\u001b[0m\u001b[0;34m\u001b[0m\u001b[0;34m\u001b[0m\u001b[0m\n\u001b[0m\u001b[1;32m      7\u001b[0m     \"\"\"\n\u001b[1;32m      8\u001b[0m     \u001b[0mDo\u001b[0m \u001b[0;32mnot\u001b[0m \u001b[0;32mreturn\u001b[0m \u001b[0manything\u001b[0m\u001b[0;34m,\u001b[0m \u001b[0mmodify\u001b[0m \u001b[0mnums\u001b[0m \u001b[0;32min\u001b[0m\u001b[0;34m-\u001b[0m\u001b[0mplace\u001b[0m \u001b[0minstead\u001b[0m\u001b[0;34m.\u001b[0m\u001b[0;34m\u001b[0m\u001b[0;34m\u001b[0m\u001b[0m\n",
            "\u001b[0;31mNameError\u001b[0m: name 'List' is not defined"
          ]
        }
      ]
    },
    {
      "cell_type": "code",
      "source": [
        "array = [1,23,42,3212,7]\n",
        "\n",
        "array[-1:] + array[:-1]"
      ],
      "metadata": {
        "colab": {
          "base_uri": "https://localhost:8080/"
        },
        "id": "3BedZYyrxTTP",
        "outputId": "2cde2310-e7c1-4d9b-ee1f-4f0e9b95ab86"
      },
      "execution_count": 26,
      "outputs": [
        {
          "output_type": "execute_result",
          "data": {
            "text/plain": [
              "[7, 1, 23, 42, 3212]"
            ]
          },
          "metadata": {},
          "execution_count": 26
        }
      ]
    },
    {
      "cell_type": "code",
      "source": [
        "# 3.Write a Python Program for array rotation?\n",
        "#rotating an array by k steps, where k is non-negativemyArray = [1,2,3,4,5]\n",
        "\n",
        "def rotateArray(arr, k):\n",
        "  arr = arr[-k:] + arr[:-k]\n",
        "  return arr\n",
        "\n",
        "\n",
        "print(rotateArray(myArray,3))\n",
        "\n",
        "\n"
      ],
      "metadata": {
        "colab": {
          "base_uri": "https://localhost:8080/"
        },
        "id": "GvK2Iq1UxDiO",
        "outputId": "bf094dd2-910d-4341-d43f-fe307be678b2"
      },
      "execution_count": 18,
      "outputs": [
        {
          "output_type": "stream",
          "name": "stdout",
          "text": [
            "[3, 4, 5, 1, 2]\n"
          ]
        }
      ]
    },
    {
      "cell_type": "code",
      "source": [
        "#Write a Python Program to Split the array and add the first part to the end?\n",
        "\n",
        "Array1 = [1,2,3,4,5,6,7,8,9]\n",
        "def Arraysplit(arr, k):\n",
        "  #where k is the index of element where we break the array into two\n",
        "  newArray = arr[k:] + arr[0:k-1]\n",
        "  return newArray\n",
        "\n",
        "\n",
        "Arraysplit(Array1,5)"
      ],
      "metadata": {
        "colab": {
          "base_uri": "https://localhost:8080/"
        },
        "id": "SZ8uvw5U0SBa",
        "outputId": "65fc057a-1547-47de-ed29-6227dea7ef2f"
      },
      "execution_count": 37,
      "outputs": [
        {
          "output_type": "execute_result",
          "data": {
            "text/plain": [
              "[6, 7, 8, 9, 1, 2, 3, 4]"
            ]
          },
          "metadata": {},
          "execution_count": 37
        }
      ]
    },
    {
      "cell_type": "code",
      "source": [
        "#Write a Python Program to check if given array is Monotonic?\n",
        "\n",
        "def isMonotonic(arr):\n",
        "  \n",
        "    return (all(arr[i] <= arr[i + 1] for i in range(len(arr) - 1)) or\n",
        "            all(arr[i] >= arr[i + 1] for i in range(len(arr) - 1)))\n",
        "\n",
        "\n",
        "print(isMonotonic(Array1))\n",
        "print(isMonotonic([1,2,5,8,9,0]))\n",
        "print(isMonotonic([1,1,1]))\n",
        "print(isMonotonic([90,88,67,22]))"
      ],
      "metadata": {
        "colab": {
          "base_uri": "https://localhost:8080/"
        },
        "id": "5R8XH2yX1zOt",
        "outputId": "ca67bdb3-138c-45d1-fa0c-08f9602db608"
      },
      "execution_count": 44,
      "outputs": [
        {
          "output_type": "stream",
          "name": "stdout",
          "text": [
            "True\n",
            "False\n",
            "True\n",
            "True\n"
          ]
        }
      ]
    },
    {
      "cell_type": "code",
      "source": [
        ""
      ],
      "metadata": {
        "id": "KMBrhlcMAzyw"
      },
      "execution_count": null,
      "outputs": []
    }
  ]
}