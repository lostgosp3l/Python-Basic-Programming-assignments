{
  "nbformat": 4,
  "nbformat_minor": 0,
  "metadata": {
    "colab": {
      "name": "PBPA5.ipynb",
      "provenance": [],
      "collapsed_sections": [],
      "authorship_tag": "ABX9TyPyXwV+7KzdVC9b1JJ0fSmm",
      "include_colab_link": true
    },
    "kernelspec": {
      "name": "python3",
      "display_name": "Python 3"
    },
    "language_info": {
      "name": "python"
    }
  },
  "cells": [
    {
      "cell_type": "markdown",
      "metadata": {
        "id": "view-in-github",
        "colab_type": "text"
      },
      "source": [
        "<a href=\"https://colab.research.google.com/github/lostgosp3l/Python-Basic-Programming-assignments/blob/main/PBPA5.ipynb\" target=\"_parent\"><img src=\"https://colab.research.google.com/assets/colab-badge.svg\" alt=\"Open In Colab\"/></a>"
      ]
    },
    {
      "cell_type": "code",
      "execution_count": null,
      "metadata": {
        "colab": {
          "base_uri": "https://localhost:8080/",
          "height": 54
        },
        "id": "7W2TfWnC-JuN",
        "outputId": "82cd4e27-9861-4797-cb0c-cf087f7a1c09"
      },
      "outputs": [
        {
          "output_type": "execute_result",
          "data": {
            "application/vnd.google.colaboratory.intrinsic+json": {
              "type": "string"
            },
            "text/plain": [
              "'\\n1. Write a Python Program to Find LCM?\\n2. Write a Python Program to Find HCF?\\n3. Write a Python Program to Convert Decimal to Binary, Octal and Hexadecimal?\\n4. Write a Python Program To Find ASCII value of a character?\\n5. Write a Python Program to Make a Simple Calculator with 4 basic mathematical operations?\\n'"
            ]
          },
          "metadata": {},
          "execution_count": 1
        }
      ],
      "source": [
        "'''\n",
        "1. Write a Python Program to Find LCM?\n",
        "2. Write a Python Program to Find HCF?\n",
        "4. Write a Python Program To Find ASCII value of a character?\n",
        "3. Write a Python Program to Convert Decimal to Binary, Octal and Hexadecimal?\n",
        "5. Write a Python Program to Make a Simple Calculator with 4 basic mathematical operations?\n",
        "'''"
      ]
    },
    {
      "cell_type": "code",
      "source": [
        "#1. Write a Python Program to Find LCM?\n",
        "# defining a function to calculate LCM  \n",
        "def calculate_lcm(x, y):  \n",
        "    # selecting the greater number  \n",
        "    if x > y:  \n",
        "        greater = x  \n",
        "    else:  \n",
        "        greater = y  \n",
        "    while(True):  \n",
        "        if((greater % x == 0) and (greater % y == 0)):  \n",
        "            lcm = greater  \n",
        "            break  \n",
        "        greater += 1  \n",
        "    return lcm    \n",
        "  \n",
        "# taking input from users  \n",
        "num1 = int(input(\"Enter first number: \"))  \n",
        "num2 = int(input(\"Enter second number: \"))  \n",
        "# printing the result for the users  \n",
        "print(\"The L.C.M. of\", num1,\"and\", num2,\"is\", calculate_lcm(num1, num2))  \n",
        "    "
      ],
      "metadata": {
        "colab": {
          "base_uri": "https://localhost:8080/"
        },
        "id": "Qw5TfrjEI5Q-",
        "outputId": "66344ee8-7bb3-4ca4-b03e-b47e63847fc7"
      },
      "execution_count": null,
      "outputs": [
        {
          "output_type": "stream",
          "name": "stdout",
          "text": [
            "Enter first number: 15\n",
            "Enter second number: 20\n",
            "The L.C.M. of 15 and 20 is 60\n"
          ]
        }
      ]
    },
    {
      "cell_type": "code",
      "source": [
        "#2. Write a Python Program to Find HCF?\n",
        "# defining a function to calculate HCF  \n",
        "def calculate_hcf(x, y):  \n",
        "    # selecting the smaller number  \n",
        "    if x > y:  \n",
        "        smaller = y  \n",
        "    else:  \n",
        "        smaller = x  \n",
        "    for i in range(1,smaller + 1):  \n",
        "        if((x % i == 0) and (y % i == 0)):  \n",
        "            hcf = i  \n",
        "    return hcf  \n",
        "  \n",
        "# taking input from users  \n",
        "num1 = int(input(\"Enter first number: \"))  \n",
        "num2 = int(input(\"Enter second number: \"))  \n",
        "# printing the result for the users  \n",
        "print(\"The H.C.F. of\", num1,\"and\", num2,\"is\", calculate_hcf(num1, num2))  \n",
        "    "
      ],
      "metadata": {
        "id": "-O5TrDyGJhf4",
        "colab": {
          "base_uri": "https://localhost:8080/"
        },
        "outputId": "96724e06-7395-40f9-ee74-e7143b33cf25"
      },
      "execution_count": null,
      "outputs": [
        {
          "output_type": "stream",
          "name": "stdout",
          "text": [
            "Enter first number: 22\n",
            "Enter second number: 11\n",
            "The H.C.F. of 22 and 11 is 11\n"
          ]
        }
      ]
    },
    {
      "cell_type": "code",
      "source": [
        "#4. Write a Python Program To Find ASCII value of a character?\n",
        "#Program to find the ASCII value of the given character\n",
        "\n",
        "c = input(\"Enter an alphabet\")\n",
        "print(\"The ASCII value of '\" + c + \"' is\", ord(c))"
      ],
      "metadata": {
        "id": "p3ZxiTn6t_ji",
        "colab": {
          "base_uri": "https://localhost:8080/"
        },
        "outputId": "ea7e180b-3d09-49a2-858c-b1161615b63e"
      },
      "execution_count": null,
      "outputs": [
        {
          "output_type": "stream",
          "name": "stdout",
          "text": [
            "Enter an alphabetW\n",
            "The ASCII value of 'W' is 87\n"
          ]
        }
      ]
    },
    {
      "cell_type": "code",
      "source": [
        "#3. Write a Python Program to Convert Decimal to Binary, Octal and Hexadecimal?\n",
        "# Python program to convert decimal into other number systems\n",
        "dec = int(input(\"Please enter any number: \"))\n",
        "\n",
        "print(\"The decimal value of\", dec, \"is:\")\n",
        "print(bin(dec), \"in binary.\")\n",
        "print(oct(dec), \"in octal.\")\n",
        "print(hex(dec), \"in hexadecimal.\")"
      ],
      "metadata": {
        "colab": {
          "base_uri": "https://localhost:8080/"
        },
        "id": "DDNXGx9JzNmZ",
        "outputId": "cd82b351-9096-4f66-9ac0-0e77d4987ae4"
      },
      "execution_count": 3,
      "outputs": [
        {
          "output_type": "stream",
          "name": "stdout",
          "text": [
            "Please enter any number: 567\n",
            "The decimal value of 567 is:\n",
            "0b1000110111 in binary.\n",
            "0o1067 in octal.\n",
            "0x237 in hexadecimal.\n"
          ]
        }
      ]
    },
    {
      "cell_type": "code",
      "source": [
        "#5. Write a Python Program to Make a Simple Calculator with 4 basic mathematical operations?\n",
        "def add(num1,num2):\n",
        "  return num1 + num2\n",
        "\n",
        "def subtract(num1, num2):\n",
        "  return num1-num2\n",
        "\n",
        "def multiply(num1,num2):\n",
        "  return num1*num2\n",
        "\n",
        "def divide(num1,num2):\n",
        "  return num1//num2\n",
        "\n",
        "\n",
        "num1 = int(input(\"Enter a number\"))\n",
        "num2 = int(input(\"Enter another number\"))\n",
        "\n",
        "print(add(num1,num2))\n",
        "print(subtract(num1,num2))\n",
        "print(multiply(num1,num2))\n",
        "print(divide(num1,num2))\n",
        "\n"
      ],
      "metadata": {
        "colab": {
          "base_uri": "https://localhost:8080/"
        },
        "id": "uAGamc7AzRTs",
        "outputId": "54e3a57c-ff74-4277-81f4-7f40ccd6b9b5"
      },
      "execution_count": null,
      "outputs": [
        {
          "output_type": "stream",
          "name": "stdout",
          "text": [
            "Enter a number45\n",
            "Enter another number45\n",
            "90\n",
            "0\n",
            "2025\n",
            "1\n"
          ]
        }
      ]
    },
    {
      "cell_type": "code",
      "source": [
        ""
      ],
      "metadata": {
        "id": "Cv-4Uymbzfg_"
      },
      "execution_count": null,
      "outputs": []
    }
  ]
}