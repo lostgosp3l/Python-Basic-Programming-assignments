{
  "nbformat": 4,
  "nbformat_minor": 0,
  "metadata": {
    "colab": {
      "name": "PBPA2.ipynb",
      "provenance": [],
      "collapsed_sections": [],
      "authorship_tag": "ABX9TyNt2Nnh8i1dQGIjSqWeqmOm",
      "include_colab_link": true
    },
    "kernelspec": {
      "name": "python3",
      "display_name": "Python 3"
    },
    "language_info": {
      "name": "python"
    }
  },
  "cells": [
    {
      "cell_type": "markdown",
      "metadata": {
        "id": "view-in-github",
        "colab_type": "text"
      },
      "source": [
        "<a href=\"https://colab.research.google.com/github/lostgosp3l/Python-Basic-Programming-assignments/blob/main/PBPA2.ipynb\" target=\"_parent\"><img src=\"https://colab.research.google.com/assets/colab-badge.svg\" alt=\"Open In Colab\"/></a>"
      ]
    },
    {
      "cell_type": "code",
      "metadata": {
        "colab": {
          "base_uri": "https://localhost:8080/"
        },
        "id": "-8qwlsQ3cfsn",
        "outputId": "63646d12-e50f-4d49-c478-55d80dc75fa4"
      },
      "source": [
        "#swapwithouttemp\n",
        "\n",
        "a=int(input(\"A: \"))\n",
        "b = int(input(\"B: \"))\n",
        "print(\"preswap A: \",a, \"B: \",b)\n",
        "\n",
        "a = a+b\n",
        "b = a - b\n",
        "a = a - b\n",
        "\n",
        "print(\"postswap A:\", a , \" B:\", b)\n",
        "\n"
      ],
      "execution_count": null,
      "outputs": [
        {
          "output_type": "stream",
          "name": "stdout",
          "text": [
            "A: 7\n",
            "B: 8\n",
            "preswap A:  7 B:  8\n",
            "postswap A: 8  B: 7\n"
          ]
        }
      ]
    },
    {
      "cell_type": "code",
      "metadata": {
        "colab": {
          "base_uri": "https://localhost:8080/"
        },
        "id": "cIZ73H89geGu",
        "outputId": "ecef95d0-8bce-4beb-9515-03f2218654be"
      },
      "source": [
        "#impor calendar module\n",
        "import calendar\n",
        "#enter month and year\n",
        "yy = int(input(\"Enter year: \"))\n",
        "mm = int(input(\"Enter Month: \"))\n",
        "#display the calendar\n",
        "print(calendar.month(yy,mm))"
      ],
      "execution_count": null,
      "outputs": [
        {
          "output_type": "stream",
          "name": "stdout",
          "text": [
            "Enter year: 2022\n",
            "Enter Month: 2\n",
            "   February 2022\n",
            "Mo Tu We Th Fr Sa Su\n",
            "    1  2  3  4  5  6\n",
            " 7  8  9 10 11 12 13\n",
            "14 15 16 17 18 19 20\n",
            "21 22 23 24 25 26 27\n",
            "28\n",
            "\n"
          ]
        }
      ]
    },
    {
      "cell_type": "code",
      "metadata": {
        "id": "CVM6HVsakHOC",
        "colab": {
          "base_uri": "https://localhost:8080/"
        },
        "outputId": "8876550c-33e4-4f99-84b1-d399cc52631d"
      },
      "source": [
        "#python programme to find roots of a Quadratic equation\n",
        "import cmath\n",
        "print(\"General form:- ax**2 + bx + c = 0\")\n",
        "a = int(input(\"Enter a value for 'a' in a quadratic equation \"))\n",
        "b = int(input(\"Enter a value for 'b' in a quadratic equation \"))\n",
        "c = int(input(\"Enter a value for 'c' in a quadratic equation \"))\n",
        "\n",
        "d = (b ** 2) - (4 * a * c)\n",
        "\n",
        "sol1 = (-b-cmath.sqrt(d))/(2*a)\n",
        "sol2 = (-b+cmath.sqrt(d))/(2*a)\n",
        "\n",
        "print(\"\\n\")\n",
        "print(f\"Results for equation, {a}x**2 + {b}x + {c} = 0, are :-\\n\")\n",
        "if (d>0):\n",
        "  \n",
        "  print(\"Two disinct Real roots Exist\")\n",
        "elif(d==0):\n",
        "  print(\"Two Equal and Real roots Exist\")\n",
        "elif(d<0):\n",
        "  print(\"Two disinct Complex roots Exist\")\n",
        "\n",
        "print(f\"The solutions are {sol1} and {sol2}\")\n"
      ],
      "execution_count": 7,
      "outputs": [
        {
          "output_type": "stream",
          "name": "stdout",
          "text": [
            "General form:- ax**2 + bx + c = 0\n",
            "Enter a value for 'a' in a quadratic equation 6\n",
            "Enter a value for 'b' in a quadratic equation 5\n",
            "Enter a value for 'c' in a quadratic equation 4\n",
            "\n",
            "\n",
            "Results for equation, 6x**2 + 5x + 4 = 0, are :-\n",
            "\n",
            "Two disinct Complex roots Exist\n",
            "The solutions are (-0.4166666666666667-0.7021791477646966j) and (-0.4166666666666667+0.7021791477646966j)\n"
          ]
        }
      ]
    },
    {
      "cell_type": "code",
      "source": [
        "#Write a Python program to convert kilometers to miles?\n",
        "Kilometers = int(input(\"Enter kilometers\"))\n",
        "miles = Kilometers * 0.621371\n",
        "print(Kilometers,\" Kilometeres is \",miles,\" Miles. \")\n"
      ],
      "metadata": {
        "id": "g0EH1zN0aiUa",
        "colab": {
          "base_uri": "https://localhost:8080/"
        },
        "outputId": "0d44a0c8-b65d-4306-a985-4c5dfe3a2de4"
      },
      "execution_count": null,
      "outputs": [
        {
          "output_type": "stream",
          "name": "stdout",
          "text": [
            "Enter kilometers2\n",
            "2  Kilometeres is  1.242742  Miles. \n"
          ]
        }
      ]
    },
    {
      "cell_type": "code",
      "source": [
        "#Write a Python program to convert Celsius to Fahrenheit?\n",
        "TempinC = int(input(\"Enter temperature in Celsius\"))\n",
        "F = TempinC * 0.621371\n",
        "print(Kilometers,\" Kilometeres is \",miles,\" Miles. \")\n"
      ],
      "metadata": {
        "id": "hcVbdxMEaiwd"
      },
      "execution_count": null,
      "outputs": []
    },
    {
      "cell_type": "code",
      "source": [
        "7**8"
      ],
      "metadata": {
        "colab": {
          "base_uri": "https://localhost:8080/"
        },
        "id": "iJoE79zraXRn",
        "outputId": "e3fe8e0f-6623-4bd1-97f9-c76165565022"
      },
      "execution_count": null,
      "outputs": [
        {
          "output_type": "execute_result",
          "data": {
            "text/plain": [
              "5764801"
            ]
          },
          "metadata": {},
          "execution_count": 5
        }
      ]
    },
    {
      "cell_type": "code",
      "source": [
        ""
      ],
      "metadata": {
        "id": "9oaaf2qraqqg"
      },
      "execution_count": null,
      "outputs": []
    }
  ]
}