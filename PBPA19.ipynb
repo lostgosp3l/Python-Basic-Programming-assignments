{
  "nbformat": 4,
  "nbformat_minor": 0,
  "metadata": {
    "colab": {
      "name": "PBPA19.ipynb",
      "provenance": [],
      "collapsed_sections": [],
      "authorship_tag": "ABX9TyOywk6omdQcNqpLcxM9QVNY",
      "include_colab_link": true
    },
    "kernelspec": {
      "name": "python3",
      "display_name": "Python 3"
    },
    "language_info": {
      "name": "python"
    }
  },
  "cells": [
    {
      "cell_type": "markdown",
      "metadata": {
        "id": "view-in-github",
        "colab_type": "text"
      },
      "source": [
        "<a href=\"https://colab.research.google.com/github/lostgosp3l/Python-Basic-Programming-assignments/blob/main/PBPA19.ipynb\" target=\"_parent\"><img src=\"https://colab.research.google.com/assets/colab-badge.svg\" alt=\"Open In Colab\"/></a>"
      ]
    },
    {
      "cell_type": "code",
      "execution_count": null,
      "metadata": {
        "colab": {
          "base_uri": "https://localhost:8080/"
        },
        "id": "QFGvE5DGBInX",
        "outputId": "28077526-7c90-4ea7-aa4a-5f5f0f7f9227"
      },
      "outputs": [
        {
          "output_type": "stream",
          "name": "stdout",
          "text": [
            "Please enter a string:lko\n",
            "llkkoo\n"
          ]
        }
      ],
      "source": [
        "'''Question1\n",
        "Create a function that takes a string and returns a string in which each character is repeated once.\n",
        "Examples\n",
        "double_char(\"String\") ➞ \"SSttrriinngg\"\n",
        "\n",
        "double_char(\"Hello World!\") ➞ \"HHeelllloo  WWoorrlldd!!\"\n",
        "\n",
        "double_char(\"1234!_ \") ➞ \"11223344!!__  \"'''\n",
        "\n",
        "\n",
        "def double(str):\n",
        "    return ''.join(c+c for c in str)\n",
        " \n",
        "n = input(\"Please enter a string:\")\n",
        "print(double(n))"
      ]
    },
    {
      "cell_type": "code",
      "source": [
        "'''Question2\n",
        "Create a function that reverses a boolean value and returns the string \"boolean expected\" if another variable type is given.\n",
        "Examples\n",
        "reverse(True) ➞ False\n",
        "\n",
        "reverse(False) ➞ True\n",
        "\n",
        "reverse(0) ➞ \"boolean expected\"\n",
        "\n",
        "reverse(None) ➞ \"boolean expected\"\n",
        "\n",
        "'''\n",
        "\n",
        "def reverse(bool):\n",
        "  if bool==True:\n",
        "    return \"False\"\n",
        "  elif bool==False:\n",
        "    return \"True\"\n",
        "  else:\n",
        "    return \"Boolean expected\"\n",
        "\n",
        "\n",
        "print(reverse(123))\n",
        "print(reverse(None))\n",
        "print(reverse(\"hjk\"))\n",
        "print(reverse(True))\n",
        "print(reverse(False))"
      ],
      "metadata": {
        "colab": {
          "base_uri": "https://localhost:8080/"
        },
        "id": "kfmut9VSBYJn",
        "outputId": "eab129c4-c8d6-48b7-9da2-75a52769d7a2"
      },
      "execution_count": null,
      "outputs": [
        {
          "output_type": "stream",
          "name": "stdout",
          "text": [
            "Boolean expected\n",
            "Boolean expected\n",
            "Boolean expected\n",
            "False\n",
            "True\n"
          ]
        }
      ]
    },
    {
      "cell_type": "code",
      "source": [
        "'''Question3\n",
        "Create a function that returns the thickness (in meters) of a piece of paper after folding it n number of times. The paper starts off with a thickness of 0.5mm.\n",
        "Examples\n",
        "num_layers(1) ➞ \"0.001m\"\n",
        "# Paper folded once is 1mm (equal to 0.001m)\n",
        "\n",
        "num_layers(4) ➞ \"0.008m\"\n",
        "# Paper folded 4 times is 8mm (equal to 0.008m)\n",
        "\n",
        "num_layers(21) ➞ \"1048.576m\"\n",
        "# Paper folded 21 times is 1048576mm (equal to 1048.576m)\n",
        "'''\n",
        "\n",
        "def num_layers(n):\n",
        "  return \"Paper folded \" + str(n) + \" times is \"+ str(0.5*2**n/1000) + 'm'\n",
        "\n",
        "print(num_layers(4))\n",
        "print(num_layers(21))\n"
      ],
      "metadata": {
        "colab": {
          "base_uri": "https://localhost:8080/"
        },
        "id": "pYUfdIr8Bbue",
        "outputId": "a8f4a166-8f12-4fd9-f433-9fa0a43f2b07"
      },
      "execution_count": null,
      "outputs": [
        {
          "output_type": "stream",
          "name": "stdout",
          "text": [
            "Paper folded 4 times is 0.008m\n",
            "Paper folded 21 times is 1048.576m\n"
          ]
        }
      ]
    },
    {
      "cell_type": "code",
      "source": [
        "'''Question4\n",
        "Create a function that takes a single string as argument and returns an ordered list containing the indices of all capital letters in the string.\n",
        "Examples\n",
        "index_of_caps(\"eDaBiT\") ➞ [1, 3, 5]\n",
        "\n",
        "index_of_caps(\"eQuINoX\") ➞ [1, 3, 4, 6]\n",
        "\n",
        "index_of_caps(\"determine\") ➞ []\n",
        "\n",
        "index_of_caps(\"STRIKE\") ➞ [0, 1, 2, 3, 4, 5]\n",
        "\n",
        "index_of_caps(\"sUn\") ➞ [1]\n",
        "'''\n",
        "\n",
        "def index_of_caps(word):\n",
        "    indices = []\n",
        "    for i in range(len(word)):\n",
        "        if word[i].isupper():\n",
        "             indices.append(i)\n",
        "    return indices\n",
        "\n",
        "\n",
        "print(index_of_caps(\"HnKl\"))\n",
        "print(index_of_caps(\"GoD\"))\n",
        "print(index_of_caps(\"VBNMjhg\"))\n",
        "print(index_of_caps(\"ChInA\"))\n",
        "print(index_of_caps(\"UNITEDstatesOFmurica\"))\n",
        "print(index_of_caps(\"INDIA\"))\n"
      ],
      "metadata": {
        "colab": {
          "base_uri": "https://localhost:8080/"
        },
        "id": "8scn4lMXBkvD",
        "outputId": "350c9e63-0650-46c4-e54e-bd827fe95fca"
      },
      "execution_count": null,
      "outputs": [
        {
          "output_type": "stream",
          "name": "stdout",
          "text": [
            "[0, 2]\n",
            "[0, 2]\n",
            "[0, 1, 2, 3]\n",
            "[0, 2, 4]\n",
            "[0, 1, 2, 3, 4, 5, 12, 13]\n",
            "[0, 1, 2, 3, 4]\n"
          ]
        }
      ]
    },
    {
      "cell_type": "code",
      "source": [
        "'''Question5\n",
        "Using list comprehensions, create a function that finds all even numbers from 1 to the given number.\n",
        "Examples\n",
        "find_even_nums(8) ➞ [2, 4, 6, 8]\n",
        "\n",
        "find_even_nums(4) ➞ [2, 4]\n",
        "\n",
        "find_even_nums(2) ➞ [2]\n",
        "'''\n",
        "\n",
        "def find_even_nums(n):\n",
        "  mylist = [(i) for i in range(1,n+1) if i%2==0]\n",
        "  return mylist\n",
        "\n",
        "n = int(input(\"Please enter a positive integer: \"))\n",
        "find_even_nums(n)"
      ],
      "metadata": {
        "id": "OT9ChmEIBt6Z",
        "colab": {
          "base_uri": "https://localhost:8080/"
        },
        "outputId": "fbb83cf6-3d32-4643-af64-e96ea7561b68"
      },
      "execution_count": null,
      "outputs": [
        {
          "name": "stdout",
          "output_type": "stream",
          "text": [
            "Please enter a positive integer: 34\n"
          ]
        },
        {
          "output_type": "execute_result",
          "data": {
            "text/plain": [
              "[2, 4, 6, 8, 10, 12, 14, 16, 18, 20, 22, 24, 26, 28, 30, 32, 34]"
            ]
          },
          "metadata": {},
          "execution_count": 25
        }
      ]
    }
  ]
}