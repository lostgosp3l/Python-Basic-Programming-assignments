{
  "nbformat": 4,
  "nbformat_minor": 0,
  "metadata": {
    "colab": {
      "name": "PBPA4.ipynb",
      "provenance": [],
      "collapsed_sections": [],
      "authorship_tag": "ABX9TyN/VH8sFa7glLmaAbZaDCgd",
      "include_colab_link": true
    },
    "kernelspec": {
      "name": "python3",
      "display_name": "Python 3"
    },
    "language_info": {
      "name": "python"
    }
  },
  "cells": [
    {
      "cell_type": "markdown",
      "metadata": {
        "id": "view-in-github",
        "colab_type": "text"
      },
      "source": [
        "<a href=\"https://colab.research.google.com/github/lostgosp3l/Python-Basic-Programming-assignments/blob/main/PBPA4.ipynb\" target=\"_parent\"><img src=\"https://colab.research.google.com/assets/colab-badge.svg\" alt=\"Open In Colab\"/></a>"
      ]
    },
    {
      "cell_type": "code",
      "execution_count": null,
      "metadata": {
        "colab": {
          "base_uri": "https://localhost:8080/",
          "height": 105
        },
        "id": "PgrYtTbrJunC",
        "outputId": "01ce4168-c990-443b-c446-9da5220b398f"
      },
      "outputs": [
        {
          "output_type": "execute_result",
          "data": {
            "application/vnd.google.colaboratory.intrinsic+json": {
              "type": "string"
            },
            "text/plain": [
              "'1. Write a Python Program to Find the Factorial of a Number?\\n2. Write a Python Program to Display the multiplication Table?\\n3. Write a Python Program to Print the Fibonacci sequence?\\n4. Write a Python Program to Check Armstrong Number?\\n5. Write a Python Program to Find Armstrong Number in an Interval?\\n6. Write a Python Program to Find the Sum of Natural Numbers?'"
            ]
          },
          "metadata": {},
          "execution_count": 1
        }
      ],
      "source": [
        "\"\"\"1. Write a Python Program to Find the Factorial of a Number?\n",
        "2. Write a Python Program to Display the multiplication Table?\n",
        "3. Write a Python Program to Print the Fibonacci sequence?\n",
        "4. Write a Python Program to Check Armstrong Number?\n",
        "5. Write a Python Program to Find Armstrong Number in an Interval?\n",
        "6. Write a Python Program to Find the Sum of Natural Numbers?\"\"\""
      ]
    },
    {
      "cell_type": "code",
      "source": [
        "#program to find factorial of a number\n",
        "def fact(n):\n",
        "\n",
        "  f = 1\n",
        "  for i in range(1,n+1):\n",
        "    f = f*i \n",
        "\n",
        "  return f \n",
        "\n",
        "number = int(input(\"Please enter a positive integer:\"))\n",
        "print(fact(number))\n"
      ],
      "metadata": {
        "colab": {
          "base_uri": "https://localhost:8080/"
        },
        "id": "UYg2pWkHLqKH",
        "outputId": "2211619a-fd55-4faa-94e5-2d5fc6896ab8"
      },
      "execution_count": null,
      "outputs": [
        {
          "output_type": "stream",
          "name": "stdout",
          "text": [
            "Please enter a positive integer:5\n",
            "120\n"
          ]
        }
      ]
    },
    {
      "cell_type": "code",
      "source": [
        "#program to display multiplication\n",
        "num = int(input(\"Please enter an integer \"))\n",
        "counter = 1\n",
        "while (counter <= 10):\n",
        "    print ( num, \"times\", counter)\n",
        "    print(num * counter)\n",
        "    counter = counter + 1"
      ],
      "metadata": {
        "colab": {
          "base_uri": "https://localhost:8080/"
        },
        "id": "F1YWutXNLujE",
        "outputId": "40d94f39-b8fd-43c5-8ca3-64e560c9c531"
      },
      "execution_count": null,
      "outputs": [
        {
          "output_type": "stream",
          "name": "stdout",
          "text": [
            "Please enter an integer 57\n",
            "57 times 1\n",
            "57\n",
            "57 times 2\n",
            "114\n",
            "57 times 3\n",
            "171\n",
            "57 times 4\n",
            "228\n",
            "57 times 5\n",
            "285\n",
            "57 times 6\n",
            "342\n",
            "57 times 7\n",
            "399\n",
            "57 times 8\n",
            "456\n",
            "57 times 9\n",
            "513\n",
            "57 times 10\n",
            "570\n"
          ]
        }
      ]
    },
    {
      "cell_type": "markdown",
      "source": [
        ""
      ],
      "metadata": {
        "id": "vGGoRXeWjw2r"
      }
    },
    {
      "cell_type": "code",
      "source": [
        "num = int(input(\"Show the multiplication table of ?\"))\n",
        "#using for loop to iterate multiplication of 10 times\n",
        "for i in range (1,10):\n",
        "  print (num,'x',i,'=',num*i)"
      ],
      "metadata": {
        "colab": {
          "base_uri": "https://localhost:8080/"
        },
        "id": "pod2QxpOh1aY",
        "outputId": "06d02a4d-d6ef-4688-acbd-c06f2aaf638c"
      },
      "execution_count": null,
      "outputs": [
        {
          "output_type": "stream",
          "name": "stdout",
          "text": [
            "Show the multiplication table of ?56\n",
            "56 x 1 = 56\n",
            "56 x 2 = 112\n",
            "56 x 3 = 168\n",
            "56 x 4 = 224\n",
            "56 x 5 = 280\n",
            "56 x 6 = 336\n",
            "56 x 7 = 392\n",
            "56 x 8 = 448\n",
            "56 x 9 = 504\n"
          ]
        }
      ]
    },
    {
      "cell_type": "code",
      "source": [
        "#program to print the fibonacci sequence \n",
        "#1+1+2+3+5+8+13+21.......\n",
        "nterms = int(input(\"How many terms? \"))\n",
        "\n",
        "# first two terms\n",
        "n1 = 0\n",
        "n2 = 1\n",
        "count = 0\n",
        "\n",
        "# check if the number of terms is valid\n",
        "if nterms <= 0:\n",
        "   print(\"Please enter a positive integer\")\n",
        "# if there is only one term, return n1\n",
        "elif nterms == 1:\n",
        "   print(\"Fibonacci sequence upto\",nterms,\":\")\n",
        "   print(n1)\n",
        "# generate fibonacci sequence\n",
        "else:\n",
        "   print(\"Fibonacci sequence:\")\n",
        "   while count < nterms:\n",
        "       print(n1)\n",
        "       nth = n1 + n2\n",
        "       # update values\n",
        "       n1 = n2\n",
        "       n2 = nth\n",
        "       count += 1\n",
        "\n"
      ],
      "metadata": {
        "id": "fkfU-CC2h11X",
        "colab": {
          "base_uri": "https://localhost:8080/"
        },
        "outputId": "5eeacd63-62ca-440c-807c-3e6f8e22e521"
      },
      "execution_count": null,
      "outputs": [
        {
          "output_type": "stream",
          "name": "stdout",
          "text": [
            "How many terms? 5\n",
            "Fibonacci sequence:\n",
            "0\n",
            "1\n",
            "1\n",
            "2\n",
            "3\n"
          ]
        }
      ]
    },
    {
      "cell_type": "code",
      "source": [
        "nterms = int(input(\"How many terms? \"))\n",
        "\n",
        "n1, n2 = 0, 1\n",
        "count = 0\n",
        "\n",
        "while count < nterms:\n",
        "       print(n1)\n",
        "       nth = n1 + n2\n",
        "       # update values\n",
        "       n1 = n2\n",
        "       n2 = nth\n",
        "       count += 1"
      ],
      "metadata": {
        "id": "g3IMtT_Bh2LL",
        "colab": {
          "base_uri": "https://localhost:8080/"
        },
        "outputId": "f43f39e9-a242-4448-d8cc-3d7259233f52"
      },
      "execution_count": null,
      "outputs": [
        {
          "output_type": "stream",
          "name": "stdout",
          "text": [
            "How many terms? 5\n",
            "0\n",
            "1\n",
            "1\n",
            "2\n",
            "3\n"
          ]
        }
      ]
    },
    {
      "cell_type": "code",
      "source": [
        "#Write a Python Program to Check Armstrong Number\n",
        "num = int(input(\"Please enter a positive integer : \"))\n",
        "sum = 0\n",
        "originalnum = num \n",
        "while num>0:\n",
        "  lastdigit = num%10\n",
        "  sum += lastdigit**3\n",
        "  num = num//10\n",
        "if sum == originalnum:\n",
        "  print(originalnum, \" is an armstrong number \")\n",
        "else:\n",
        "  print(originalnum, \" is not an armstrong number\")\n"
      ],
      "metadata": {
        "id": "U3JpU5LM9zGe",
        "colab": {
          "base_uri": "https://localhost:8080/"
        },
        "outputId": "48593b55-b55c-4d8d-f582-999667b88722"
      },
      "execution_count": null,
      "outputs": [
        {
          "output_type": "stream",
          "name": "stdout",
          "text": [
            "Please enter a positive integer : 111\n",
            "111  is not an armstrong number\n"
          ]
        }
      ]
    },
    {
      "cell_type": "code",
      "source": [
        "# Program to check Armstrong numbers in a certain interval\n",
        "\n",
        "lower = int(input(\"Please enter the lower bound:\"))\n",
        "upper = int(input(\"Please enter the upper bound:\"))\n",
        "\n",
        "for num in range(lower, upper + 1):\n",
        "\n",
        "   # initialize sum\n",
        "   sum = 0\n",
        "\n",
        "   temp = num\n",
        "   while temp > 0:\n",
        "       digit = temp % 10\n",
        "       sum += digit ** 3\n",
        "       temp //= 10\n",
        "\n",
        "   if num == sum:\n",
        "       print(num)"
      ],
      "metadata": {
        "colab": {
          "base_uri": "https://localhost:8080/"
        },
        "id": "wu2hKiU9g-l6",
        "outputId": "48606caa-656b-4e0b-9552-f13e4ee7a437"
      },
      "execution_count": null,
      "outputs": [
        {
          "output_type": "stream",
          "name": "stdout",
          "text": [
            "Please enter the lower bound:100\n",
            "Please enter the upper bound:1000\n",
            "153\n",
            "370\n",
            "371\n",
            "407\n"
          ]
        }
      ]
    },
    {
      "cell_type": "code",
      "source": [
        "#Write a Python Program to Find the Sum of Natural Numbers?\n",
        "def sum(n):\n",
        "  if n<= 1:\n",
        "    return n\n",
        "  else :\n",
        "    return n + sum(n-1)\n",
        "n = int(input(\"Enter the nth term: \"))\n",
        "print(sum(n))\n"
      ],
      "metadata": {
        "colab": {
          "base_uri": "https://localhost:8080/"
        },
        "id": "1WhL4J8vkjeH",
        "outputId": "cdd5f286-0b55-4878-8c02-d1f01a2a7bb3"
      },
      "execution_count": null,
      "outputs": [
        {
          "output_type": "stream",
          "name": "stdout",
          "text": [
            "Enter the nth term: 5\n",
            "15\n"
          ]
        }
      ]
    },
    {
      "cell_type": "code",
      "source": [
        ""
      ],
      "metadata": {
        "id": "4jMBDiA3lljs"
      },
      "execution_count": null,
      "outputs": []
    }
  ]
}