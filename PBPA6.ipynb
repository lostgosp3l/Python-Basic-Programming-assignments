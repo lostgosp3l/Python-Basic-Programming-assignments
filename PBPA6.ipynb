{
  "nbformat": 4,
  "nbformat_minor": 0,
  "metadata": {
    "colab": {
      "name": "PBPA6.ipynb",
      "provenance": [],
      "collapsed_sections": [],
      "authorship_tag": "ABX9TyM5xfhAwaZb09UlYsA8Jhr3",
      "include_colab_link": true
    },
    "kernelspec": {
      "name": "python3",
      "display_name": "Python 3"
    },
    "language_info": {
      "name": "python"
    }
  },
  "cells": [
    {
      "cell_type": "markdown",
      "metadata": {
        "id": "view-in-github",
        "colab_type": "text"
      },
      "source": [
        "<a href=\"https://colab.research.google.com/github/lostgosp3l/Python-Basic-Programming-assignments/blob/main/PBPA6.ipynb\" target=\"_parent\"><img src=\"https://colab.research.google.com/assets/colab-badge.svg\" alt=\"Open In Colab\"/></a>"
      ]
    },
    {
      "cell_type": "code",
      "execution_count": null,
      "metadata": {
        "colab": {
          "base_uri": "https://localhost:8080/",
          "height": 54
        },
        "id": "TrthM1-jO8Xk",
        "outputId": "3b3eb936-b83f-44d9-9ea8-a2ba4f1bd65e"
      },
      "outputs": [
        {
          "output_type": "execute_result",
          "data": {
            "application/vnd.google.colaboratory.intrinsic+json": {
              "type": "string"
            },
            "text/plain": [
              "'\\nWrite a Python Program to Display Fibonacci Sequence Using Recursion?\\nWrite a Python Program to Find Factorial of Number Using Recursion?\\nWrite a Python Program to calculate your Body Mass Index?\\nWrite a Python Program to calculate the natural logarithm of any number?\\nWrite a Python Program for cube sum of first n natural numbers?\\n'"
            ]
          },
          "metadata": {},
          "execution_count": 1
        }
      ],
      "source": [
        "'''\n",
        "Write a Python Program to Display Fibonacci Sequence Using Recursion?\n",
        "Write a Python Program to Find Factorial of Number Using Recursion?\n",
        "Write a Python Program to calculate your Body Mass Index?\n",
        "Write a Python Program to calculate the natural logarithm of any number?\n",
        "Write a Python Program for cube sum of first n natural numbers?\n",
        "'''"
      ]
    },
    {
      "cell_type": "code",
      "source": [
        "def greet():\n",
        "  print(\"Hello\")\n",
        "  greet()"
      ],
      "metadata": {
        "id": "Bd10iFACPYl2"
      },
      "execution_count": null,
      "outputs": []
    },
    {
      "cell_type": "code",
      "source": [
        "import sys"
      ],
      "metadata": {
        "id": "a1HL-0OFrB6-"
      },
      "execution_count": null,
      "outputs": []
    },
    {
      "cell_type": "code",
      "source": [
        "print(sys.getrecursionlimit())"
      ],
      "metadata": {
        "colab": {
          "base_uri": "https://localhost:8080/"
        },
        "id": "EfFajEl-r90M",
        "outputId": "976cc8c4-ab99-459f-b341-a839c18bbd5e"
      },
      "execution_count": null,
      "outputs": [
        {
          "output_type": "stream",
          "name": "stdout",
          "text": [
            "1000\n"
          ]
        }
      ]
    },
    {
      "cell_type": "code",
      "source": [
        "sys.setrecursionlimit(2000)"
      ],
      "metadata": {
        "id": "faHsYyphsHth"
      },
      "execution_count": null,
      "outputs": []
    },
    {
      "cell_type": "code",
      "source": [
        "#Write a Python Program to Display Fibonacci Sequence Using Recursion?\n",
        "def fib(n):\n",
        " \n",
        "    # Stop condition\n",
        "    if (n == 0):\n",
        "        return 0\n",
        " \n",
        "    # Stop condition\n",
        "    if (n == 1 or n == 2):\n",
        "        return 1\n",
        " \n",
        "    # Recursion function\n",
        "    else:\n",
        "        return (fib(n - 1) + fib(n - 2))\n",
        " \n",
        "nterms = int(input(\"Please enter the nth term: \"))\n",
        "\n",
        "# check if the number of terms is valid\n",
        "if nterms <= 0:\n",
        "   print(\"Plese enter a positive integer\")\n",
        "else:\n",
        "   print(\"Fibonacci sequence:\")\n",
        "   for i in range(nterms):\n",
        "       print(fib(i))\n",
        " "
      ],
      "metadata": {
        "id": "UQIFxTuMzaAG",
        "colab": {
          "base_uri": "https://localhost:8080/"
        },
        "outputId": "6b081a4b-8cfc-4d09-c2c6-6fbaecef30a2"
      },
      "execution_count": null,
      "outputs": [
        {
          "output_type": "stream",
          "name": "stdout",
          "text": [
            "Please enter the nth term: 8\n",
            "Fibonacci sequence:\n",
            "0\n",
            "1\n",
            "1\n",
            "2\n",
            "3\n",
            "5\n",
            "8\n",
            "13\n"
          ]
        }
      ]
    },
    {
      "cell_type": "markdown",
      "source": [
        ""
      ],
      "metadata": {
        "id": "vy5ZYHlG3g9h"
      }
    },
    {
      "cell_type": "code",
      "source": [
        "#Write a Python Program to Find Factorial of Number Using Recursion?\n",
        "def fact(n):\n",
        "\n",
        "  if n<=1:\n",
        "    return n\n",
        "  else :\n",
        "    return n*fact(n-1)\n"
      ],
      "metadata": {
        "id": "Vx-PIsNOUYBS"
      },
      "execution_count": null,
      "outputs": []
    },
    {
      "cell_type": "code",
      "source": [
        "n = int(input(\"enter a number: \"))\n",
        "print(fact(n))"
      ],
      "metadata": {
        "id": "Rm4tHjzBfTks",
        "colab": {
          "base_uri": "https://localhost:8080/"
        },
        "outputId": "b36ef5ad-8f10-4b35-dfe8-5c3db6d528eb"
      },
      "execution_count": null,
      "outputs": [
        {
          "output_type": "stream",
          "name": "stdout",
          "text": [
            "enter a number: 5\n",
            "120\n"
          ]
        }
      ]
    },
    {
      "cell_type": "code",
      "source": [
        "#Write a Python Program to calculate your Body Mass Index?\n",
        "#metric ie kgs/m.sq\n",
        "\n",
        "def BMI(weight,height):\n",
        "  BMI = weight/height**2\n",
        "  return BMI\n",
        "  \n",
        "  \n",
        "print(BMI(55,1.5))"
      ],
      "metadata": {
        "colab": {
          "base_uri": "https://localhost:8080/"
        },
        "id": "xUDZpnBV7qxl",
        "outputId": "bd85b8ed-d2b9-4ec0-92d4-e26b47364174"
      },
      "execution_count": 4,
      "outputs": [
        {
          "output_type": "stream",
          "name": "stdout",
          "text": [
            "24.444444444444443\n"
          ]
        }
      ]
    },
    {
      "cell_type": "code",
      "source": [
        "#Write a Python Program to calculate the natural logarithm of any number?\n",
        "\n",
        "import math\n",
        "\n",
        "n = int(input(\"Please enter an integer: \"))\n",
        "print(math.log(n))"
      ],
      "metadata": {
        "id": "JWMZnfoN8DCB",
        "colab": {
          "base_uri": "https://localhost:8080/"
        },
        "outputId": "3a2ff6c1-06d5-4de8-e452-d49b7fc6c20f"
      },
      "execution_count": 12,
      "outputs": [
        {
          "output_type": "stream",
          "name": "stdout",
          "text": [
            "Please enter an integer: 90\n",
            "4.499809670330265\n"
          ]
        }
      ]
    },
    {
      "cell_type": "code",
      "source": [
        "#Write a Python Program for cube sum of first n natural numbers?\n",
        "\n",
        "def sumNaturalCube(n):\n",
        "  if n<=1:\n",
        "    return n\n",
        "  else:\n",
        "    return n**3 + sumNaturalCube((n-1)**3)\n",
        "\n",
        "n = int(input(\"Please enter a number: \"))\n",
        "print(sumNaturalCube(n))"
      ],
      "metadata": {
        "colab": {
          "base_uri": "https://localhost:8080/"
        },
        "id": "hOlleUcz9mmn",
        "outputId": "0a588c2c-3728-4cbf-c83e-43e5ef569885"
      },
      "execution_count": null,
      "outputs": [
        {
          "name": "stdout",
          "output_type": "stream",
          "text": [
            "Please enter a number: 3\n"
          ]
        }
      ]
    },
    {
      "cell_type": "code",
      "source": [
        ""
      ],
      "metadata": {
        "id": "sMp2ITBd-blL"
      },
      "execution_count": 12,
      "outputs": []
    },
    {
      "cell_type": "code",
      "source": [
        ""
      ],
      "metadata": {
        "id": "vpvS7GGE-xyx"
      },
      "execution_count": null,
      "outputs": []
    }
  ]
}